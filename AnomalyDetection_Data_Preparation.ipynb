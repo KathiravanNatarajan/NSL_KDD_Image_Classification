{
 "cells": [
  {
   "cell_type": "markdown",
   "metadata": {},
   "source": [
    "### Training Data Preparation"
   ]
  },
  {
   "cell_type": "code",
   "execution_count": 17,
   "metadata": {
    "collapsed": false
   },
   "outputs": [
    {
     "name": "stderr",
     "output_type": "stream",
     "text": [
      "  0%|          | 0/125972 [00:00<?, ?it/s]C:\\Anaconda\\envs\\tensorflow-cpu\\lib\\site-packages\\ipykernel\\__main__.py:9: SettingWithCopyWarning: \n",
      "A value is trying to be set on a copy of a slice from a DataFrame\n",
      "\n",
      "See the caveats in the documentation: http://pandas.pydata.org/pandas-docs/stable/indexing.html#indexing-view-versus-copy\n",
      "100%|██████████| 125972/125972 [1:28:32<00:00, 23.71it/s]\n"
     ]
    },
    {
     "name": "stdout",
     "output_type": "stream",
     "text": [
      "   label images\n",
      "0      0       \n",
      "1      0  1.jpg\n",
      "2      1  2.jpg\n",
      "3      0  3.jpg\n",
      "4      0  4.jpg\n"
     ]
    }
   ],
   "source": [
    "filename = \"./data_dump/new_train_labels.csv\"\n",
    "import pandas as pd\n",
    "from tqdm import tqdm\n",
    "df = pd.read_csv(filename, encoding='utf-8')\n",
    "\n",
    "df[\"images\"]=\"\"\n",
    "from tqdm import tqdm \n",
    "for i in tqdm(range(1, len(df))):\n",
    "    df[\"images\"][i] = str(i)+\".jpg\"\n",
    "print(df.head())"
   ]
  },
  {
   "cell_type": "code",
   "execution_count": 18,
   "metadata": {
    "collapsed": false
   },
   "outputs": [
    {
     "data": {
      "text/html": [
       "<div>\n",
       "<style scoped>\n",
       "    .dataframe tbody tr th:only-of-type {\n",
       "        vertical-align: middle;\n",
       "    }\n",
       "\n",
       "    .dataframe tbody tr th {\n",
       "        vertical-align: top;\n",
       "    }\n",
       "\n",
       "    .dataframe thead th {\n",
       "        text-align: right;\n",
       "    }\n",
       "</style>\n",
       "<table border=\"1\" class=\"dataframe\">\n",
       "  <thead>\n",
       "    <tr style=\"text-align: right;\">\n",
       "      <th></th>\n",
       "      <th>label</th>\n",
       "      <th>images</th>\n",
       "    </tr>\n",
       "  </thead>\n",
       "  <tbody>\n",
       "    <tr>\n",
       "      <th>125968</th>\n",
       "      <td>1</td>\n",
       "      <td>125968.jpg</td>\n",
       "    </tr>\n",
       "    <tr>\n",
       "      <th>125969</th>\n",
       "      <td>0</td>\n",
       "      <td>125969.jpg</td>\n",
       "    </tr>\n",
       "    <tr>\n",
       "      <th>125970</th>\n",
       "      <td>0</td>\n",
       "      <td>125970.jpg</td>\n",
       "    </tr>\n",
       "    <tr>\n",
       "      <th>125971</th>\n",
       "      <td>1</td>\n",
       "      <td>125971.jpg</td>\n",
       "    </tr>\n",
       "    <tr>\n",
       "      <th>125972</th>\n",
       "      <td>0</td>\n",
       "      <td>125972.jpg</td>\n",
       "    </tr>\n",
       "  </tbody>\n",
       "</table>\n",
       "</div>"
      ],
      "text/plain": [
       "        label      images\n",
       "125968      1  125968.jpg\n",
       "125969      0  125969.jpg\n",
       "125970      0  125970.jpg\n",
       "125971      1  125971.jpg\n",
       "125972      0  125972.jpg"
      ]
     },
     "execution_count": 18,
     "metadata": {},
     "output_type": "execute_result"
    }
   ],
   "source": [
    "df.tail()"
   ]
  },
  {
   "cell_type": "code",
   "execution_count": 19,
   "metadata": {
    "collapsed": false
   },
   "outputs": [
    {
     "name": "stderr",
     "output_type": "stream",
     "text": [
      "100%|██████████| 125972/125972 [00:01<00:00, 71074.63it/s]\n",
      "100%|██████████| 125972/125972 [04:37<00:00, 453.83it/s]\n"
     ]
    },
    {
     "name": "stdout",
     "output_type": "stream",
     "text": [
      "(125972, 8, 8, 1)\n"
     ]
    }
   ],
   "source": [
    "imagefiles_list = []\n",
    "from PIL import Image\n",
    "import numpy as np\n",
    "\n",
    "for i in tqdm(range(1,len(df))):\n",
    "    imagefiles_list.append(df['images'][i])\n",
    "    \n",
    "size = (8,8)\n",
    "X_train = np.array([np.array(Image.open(\"./image_dataset/img_kddtrain+/\"+fname)) for fname in tqdm(imagefiles_list)])\n",
    "X_train = X_train.reshape(X_train.shape[0], 8, 8, 1)\n",
    "X_train = X_train.astype('float32')\n",
    "\n",
    "X_train/=255\n",
    "print(X_train.shape)\n",
    "\n",
    "X_train.dump(\"./data_dump/train_features.pkl\")"
   ]
  },
  {
   "cell_type": "code",
   "execution_count": 20,
   "metadata": {
    "collapsed": false
   },
   "outputs": [
    {
     "name": "stdout",
     "output_type": "stream",
     "text": [
      "(125972,)\n"
     ]
    }
   ],
   "source": [
    "#labels = pd.get_dummies(df[\"label\"][1:]).as_matrix()\n",
    "import numpy as np\n",
    "labels = df[\"label\"][1:].as_matrix()\n",
    "print(labels.shape)\n",
    "labels.dump(\"./data_dump/train_labels.pkl\")"
   ]
  },
  {
   "cell_type": "markdown",
   "metadata": {},
   "source": [
    "### TEST SET PREPARATION"
   ]
  },
  {
   "cell_type": "markdown",
   "metadata": {},
   "source": [
    "### Dumping Test Labels"
   ]
  },
  {
   "cell_type": "code",
   "execution_count": 21,
   "metadata": {
    "collapsed": false
   },
   "outputs": [
    {
     "name": "stdout",
     "output_type": "stream",
     "text": [
      "(22543,)\n"
     ]
    }
   ],
   "source": [
    "import numpy as np\n",
    "new_df = pd.read_csv(\"./data_dump/new_test_labels.csv\", encoding='utf-8')\n",
    "labels = new_df[\"labels\"][1:].as_matrix()\n",
    "print(labels.shape)\n",
    "labels.dump(\"./data_dump/test_labels.pkl\")"
   ]
  },
  {
   "cell_type": "code",
   "execution_count": 22,
   "metadata": {
    "collapsed": false
   },
   "outputs": [
    {
     "name": "stderr",
     "output_type": "stream",
     "text": [
      "100%|██████████| 22543/22543 [00:03<00:00, 6607.84it/s]\n",
      "100%|██████████| 22543/22543 [00:00<00:00, 64168.44it/s]\n",
      "100%|██████████| 22543/22543 [00:28<00:00, 785.03it/s]\n"
     ]
    },
    {
     "name": "stdout",
     "output_type": "stream",
     "text": [
      "(22543, 8, 8, 1)\n"
     ]
    }
   ],
   "source": [
    "test_df = pd.read_csv(\"./data_dump/test_labels.csv\", encoding='utf-8')\n",
    "test_df[\"images\"]=\"\"\n",
    "from tqdm import tqdm \n",
    "for i in tqdm(range(1, len(test_df))):\n",
    "    test_df[\"images\"][i] = str(i)+\".jpg\"\n",
    "test_imagefiles_list = []\n",
    "for i in tqdm(range(1, len(test_df))):\n",
    "    test_imagefiles_list.append(test_df['images'][i])\n",
    "    \n",
    "size = (8,8)\n",
    "X_test = np.array([np.array(Image.open(\"./image_dataset/img_kddtest+/\"+fname)) for fname in tqdm(test_imagefiles_list)])\n",
    "X_test = X_test.reshape(X_test.shape[0], 8, 8, 1)\n",
    "X_test = X_test.astype('float32')\n",
    "\n",
    "X_test/=255\n",
    "print(X_test.shape)\n",
    "\n",
    "X_test.dump(\"./data_dump/test_features.pkl\")"
   ]
  },
  {
   "cell_type": "code",
   "execution_count": null,
   "metadata": {
    "collapsed": true
   },
   "outputs": [],
   "source": []
  }
 ],
 "metadata": {
  "anaconda-cloud": {},
  "kernelspec": {
   "display_name": "Python [conda env:tensorflow-cpu]",
   "language": "python",
   "name": "conda-env-tensorflow-cpu-py"
  },
  "language_info": {
   "codemirror_mode": {
    "name": "ipython",
    "version": 3
   },
   "file_extension": ".py",
   "mimetype": "text/x-python",
   "name": "python",
   "nbconvert_exporter": "python",
   "pygments_lexer": "ipython3",
   "version": "3.5.4"
  }
 },
 "nbformat": 4,
 "nbformat_minor": 1
}
