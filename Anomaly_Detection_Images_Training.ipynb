{
 "cells": [
  {
   "cell_type": "code",
   "execution_count": 1,
   "metadata": {
    "collapsed": false
   },
   "outputs": [
    {
     "name": "stderr",
     "output_type": "stream",
     "text": [
      "C:\\Anaconda\\envs\\tensorflow-cpu\\lib\\site-packages\\h5py\\__init__.py:36: FutureWarning: Conversion of the second argument of issubdtype from `float` to `np.floating` is deprecated. In future, it will be treated as `np.float64 == np.dtype(float).type`.\n",
      "  from ._conv import register_converters as _register_converters\n",
      "Using TensorFlow backend.\n",
      "C:\\Anaconda\\envs\\tensorflow-cpu\\lib\\site-packages\\sklearn\\cross_validation.py:41: DeprecationWarning: This module was deprecated in version 0.18 in favor of the model_selection module into which all the refactored classes and functions are moved. Also note that the interface of the new CV iterators are different from that of this module. This module will be removed in 0.20.\n",
      "  \"This module will be removed in 0.20.\", DeprecationWarning)\n"
     ]
    },
    {
     "name": "stdout",
     "output_type": "stream",
     "text": [
      "_________________________________________________________________\n",
      "Layer (type)                 Output Shape              Param #   \n",
      "=================================================================\n",
      "conv2d_1 (Conv2D)            (None, 8, 8, 64)          1792      \n",
      "_________________________________________________________________\n",
      "activation_1 (Activation)    (None, 8, 8, 64)          0         \n",
      "_________________________________________________________________\n",
      "max_pooling2d_1 (MaxPooling2 (None, 4, 4, 64)          0         \n",
      "_________________________________________________________________\n",
      "flatten_1 (Flatten)          (None, 1024)              0         \n",
      "_________________________________________________________________\n",
      "dense_1 (Dense)              (None, 128)               131200    \n",
      "_________________________________________________________________\n",
      "activation_2 (Activation)    (None, 128)               0         \n",
      "_________________________________________________________________\n",
      "dropout_1 (Dropout)          (None, 128)               0         \n",
      "_________________________________________________________________\n",
      "dense_2 (Dense)              (None, 1)                 129       \n",
      "_________________________________________________________________\n",
      "activation_3 (Activation)    (None, 1)                 0         \n",
      "=================================================================\n",
      "Total params: 133,121\n",
      "Trainable params: 133,121\n",
      "Non-trainable params: 0\n",
      "_________________________________________________________________\n",
      "None\n"
     ]
    }
   ],
   "source": [
    "from keras.preprocessing import sequence\n",
    "from keras.models import Sequential\n",
    "from keras.layers import Dense, Dropout, Activation, Lambda\n",
    "from keras.layers import Conv2D,MaxPooling2D, Flatten\n",
    "\n",
    "from keras.utils import multi_gpu_model\n",
    "from keras import backend as K\n",
    "from sklearn.cross_validation import train_test_split\n",
    "import matplotlib\n",
    "import pylab as plt\n",
    "import numpy as np\n",
    "import pandas as pd\n",
    "from keras.utils.np_utils import to_categorical\n",
    "import time\n",
    "from keras.utils import np_utils\n",
    "from sklearn import preprocessing as pp\n",
    "\n",
    "import h5py\n",
    "\n",
    "X_train = np.load(\"train_features.pkl\")\n",
    "Y_train = np.load(\"train_labels.pkl\")\n",
    "\n",
    "\n",
    "\n",
    "cnn2d_1 = Sequential([Conv2D(64, (3,3), padding=\"same\",input_shape=(8,8,3)),\n",
    "    Activation('relu'),\n",
    "    MaxPooling2D(pool_size=(2,2)),\n",
    "    Flatten(),\n",
    "    Dense(128),\n",
    "    Activation('relu'),\n",
    "    Dropout(0.5),\n",
    "    Dense(1),\n",
    "    Activation('sigmoid'),\n",
    "])\n",
    "print(cnn2d_1.summary())"
   ]
  },
  {
   "cell_type": "code",
   "execution_count": 3,
   "metadata": {
    "collapsed": false
   },
   "outputs": [
    {
     "name": "stdout",
     "output_type": "stream",
     "text": [
      "0\n"
     ]
    }
   ],
   "source": [
    "print(Y_train[0])"
   ]
  },
  {
   "cell_type": "code",
   "execution_count": 2,
   "metadata": {
    "collapsed": false
   },
   "outputs": [
    {
     "name": "stdout",
     "output_type": "stream",
     "text": [
      "Epoch 1/10\n",
      "125972/125972 [==============================] - 25s 198us/step - loss: 1.5495 - acc: 0.5333\n",
      "Epoch 2/10\n",
      "125972/125972 [==============================] - 22s 175us/step - loss: 0.6908 - acc: 0.5346\n",
      "Epoch 3/10\n",
      "125972/125972 [==============================] - 23s 179us/step - loss: 0.6908 - acc: 0.5345\n",
      "Epoch 4/10\n",
      "125972/125972 [==============================] - 22s 175us/step - loss: 0.6908 - acc: 0.5345\n",
      "Epoch 5/10\n",
      "125972/125972 [==============================] - 21s 170us/step - loss: 0.6908 - acc: 0.5346\n",
      "Epoch 6/10\n",
      "125972/125972 [==============================] - 22s 174us/step - loss: 0.6908 - acc: 0.5346\n",
      "Epoch 7/10\n",
      "125972/125972 [==============================] - 22s 171us/step - loss: 0.6908 - acc: 0.5346\n",
      "Epoch 8/10\n",
      "125972/125972 [==============================] - 21s 166us/step - loss: 0.6908 - acc: 0.5346\n",
      "Epoch 9/10\n",
      "125972/125972 [==============================] - 22s 177us/step - loss: 0.6908 - acc: 0.5346\n",
      "Epoch 10/10\n",
      "125972/125972 [==============================] - 22s 171us/step - loss: 0.6908 - acc: 0.5346\n",
      "Total time taken to train the Training model is 221.64627599716187\n"
     ]
    }
   ],
   "source": [
    "import time\n",
    "cnn2d_1.compile(loss='binary_crossentropy', optimizer=\"adam\",metrics=['accuracy'])\n",
    "# train\n",
    "start_time = time.time()\n",
    "history = cnn2d_1.fit(X_train, Y_train, batch_size=64,epochs=10)\n",
    "end_time = time.time() \n",
    "print(\"Total time taken to train the Training model is\", (end_time - start_time))\n",
    "# serialize model to JSON\n",
    "model_json = cnn2d_1.to_json()\n",
    "with open(\"NSL_KDD_Train.json\", \"w\") as json_file:\n",
    "    json_file.write(model_json)\n",
    "# serialize weights to HDF5\n",
    "cnn2d_1.save_weights(\"NSL_KDD_Train_weights.h5\")"
   ]
  },
  {
   "cell_type": "code",
   "execution_count": null,
   "metadata": {
    "collapsed": true
   },
   "outputs": [],
   "source": []
  }
 ],
 "metadata": {
  "anaconda-cloud": {},
  "kernelspec": {
   "display_name": "Python [conda env:tensorflow-cpu]",
   "language": "python",
   "name": "conda-env-tensorflow-cpu-py"
  },
  "language_info": {
   "codemirror_mode": {
    "name": "ipython",
    "version": 3
   },
   "file_extension": ".py",
   "mimetype": "text/x-python",
   "name": "python",
   "nbconvert_exporter": "python",
   "pygments_lexer": "ipython3",
   "version": "3.5.4"
  }
 },
 "nbformat": 4,
 "nbformat_minor": 1
}
