{
 "cells": [
  {
   "cell_type": "markdown",
   "metadata": {},
   "source": [
    "### Convert the categories into binary"
   ]
  },
  {
   "cell_type": "code",
   "execution_count": null,
   "metadata": {
    "collapsed": true
   },
   "outputs": [],
   "source": [
    "filename = \"./data_dump/train_labels.csv\"\n",
    "import pandas as pd\n",
    "from tqdm import tqdm\n",
    "df = pd.read_csv(filename, encoding='utf-8')\n",
    "\n",
    "for i in tqdm(df[\"label\"]):\n",
    "    with open(\"./data_dump/new_train_labels.csv\", 'a') as file: \n",
    "        if i == \"normal\": \n",
    "            file.write(\"0\"+\"\\n\")\n",
    "        else:\n",
    "            file.write(\"1\"+\"\\n\")"
   ]
  },
  {
   "cell_type": "code",
   "execution_count": null,
   "metadata": {
    "collapsed": true
   },
   "outputs": [],
   "source": [
    "filename = \"./data_dump/test_labels.csv\"\n",
    "import pandas as pd\n",
    "from tqdm import tqdm\n",
    "df = pd.read_csv(filename, encoding='utf-8')\n",
    "\n",
    "for i in tqdm(df[\"label\"]):\n",
    "    with open(\"./data_dump/new_test_labels.csv\", 'a') as file: \n",
    "        if i == \"normal\": \n",
    "            file.write(\"0\"+\"\\n\")\n",
    "        else:\n",
    "            file.write(\"1\"+\"\\n\")"
   ]
  }
 ],
 "metadata": {
  "anaconda-cloud": {},
  "kernelspec": {
   "display_name": "Python [conda env:tensorflow-cpu]",
   "language": "python",
   "name": "conda-env-tensorflow-cpu-py"
  },
  "language_info": {
   "codemirror_mode": {
    "name": "ipython",
    "version": 3
   },
   "file_extension": ".py",
   "mimetype": "text/x-python",
   "name": "python",
   "nbconvert_exporter": "python",
   "pygments_lexer": "ipython3",
   "version": "3.5.4"
  }
 },
 "nbformat": 4,
 "nbformat_minor": 1
}
